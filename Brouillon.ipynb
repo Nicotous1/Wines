{
 "cells": [
  {
   "cell_type": "markdown",
   "metadata": {},
   "source": [
    "# Brouillon"
   ]
  },
  {
   "cell_type": "markdown",
   "metadata": {},
   "source": [
    "__Ce notebook est un brouillon de notre travail. Il ne fait donc pas partie de notre rapport.__"
   ]
  },
  {
   "cell_type": "code",
   "execution_count": 1,
   "metadata": {},
   "outputs": [
    {
     "ename": "ModuleNotFoundError",
     "evalue": "No module named 'pandas_datareader'",
     "output_type": "error",
     "traceback": [
      "\u001b[0;31m---------------------------------------------------------------------------\u001b[0m",
      "\u001b[0;31mModuleNotFoundError\u001b[0m                       Traceback (most recent call last)",
      "\u001b[0;32m<ipython-input-1-e5c4d81a4fc3>\u001b[0m in \u001b[0;36m<module>\u001b[0;34m()\u001b[0m\n\u001b[1;32m      1\u001b[0m \u001b[0;32mimport\u001b[0m \u001b[0mos\u001b[0m\u001b[0;34m\u001b[0m\u001b[0m\n\u001b[1;32m      2\u001b[0m \u001b[0;32mimport\u001b[0m \u001b[0mcsv\u001b[0m\u001b[0;34m\u001b[0m\u001b[0m\n\u001b[0;32m----> 3\u001b[0;31m \u001b[0;32mimport\u001b[0m \u001b[0mpandas_datareader\u001b[0m\u001b[0;34m.\u001b[0m\u001b[0mdata\u001b[0m \u001b[0;32mas\u001b[0m \u001b[0mweb\u001b[0m\u001b[0;34m\u001b[0m\u001b[0m\n\u001b[0m\u001b[1;32m      4\u001b[0m \u001b[0;32mimport\u001b[0m \u001b[0mpandas\u001b[0m \u001b[0;32mas\u001b[0m \u001b[0mpd\u001b[0m\u001b[0;34m\u001b[0m\u001b[0m\n\u001b[1;32m      5\u001b[0m \u001b[0;32mimport\u001b[0m \u001b[0mnumpy\u001b[0m \u001b[0;32mas\u001b[0m \u001b[0mnp\u001b[0m\u001b[0;34m\u001b[0m\u001b[0m\n",
      "\u001b[0;31mModuleNotFoundError\u001b[0m: No module named 'pandas_datareader'"
     ]
    }
   ],
   "source": [
    "import os\n",
    "import csv\n",
    "import pandas_datareader.data as web\n",
    "import pandas as pd\n",
    "import numpy as np\n",
    "import datetime\n",
    "import sklearn \n",
    "\n",
    "from sklearn.ensemble import AdaBoostClassifier\n",
    "from sklearn.discriminant_analysis import QuadraticDiscriminantAnalysis\n",
    "from sklearn.neighbors import KNeighborsClassifier\n",
    "from sklearn.datasets import make_classification\n",
    "from sklearn.linear_model import LogisticRegression\n",
    "from sklearn.ensemble import (RandomTreesEmbedding, RandomForestClassifier,GradientBoostingClassifier)\n",
    "from sklearn.preprocessing import OneHotEncoder\n",
    "from sklearn.cross_validation import train_test_split\n",
    "from sklearn.metrics import roc_curve\n",
    "from sklearn.utils import shuffle\n",
    "from math import *\n",
    "\n",
    "from plotly.grid_objs import Grid, Column\n",
    "from plotly.tools import FigureFactory as FF\n",
    "\n",
    "from PyPDF2 import PdfFileReader, PdfFileMerger\n",
    "from pandas_datareader._utils import RemoteDataError\n",
    "\n",
    "import matplotlib.pyplot as plt\n",
    "from matplotlib.pyplot import cm\n",
    "\n",
    "from boruta import BorutaPy"
   ]
  },
  {
   "cell_type": "code",
   "execution_count": 2,
   "metadata": {
    "collapsed": true
   },
   "outputs": [],
   "source": [
    "if not os.path.exists(\"Contenus\") : \n",
    "    os.mkdir(\"Contenus\")\n",
    "    \n",
    "if not os.path.exists(\"Contenus\\Donnees\") : \n",
    "    os.mkdir(\"Contenus\\Donnees\")\n",
    "    \n",
    "if not os.path.exists(\"Contenus\\Donnees\\Donnees_Traitees\") : \n",
    "    os.mkdir(\"Contenus\\Donnees\\Donnees_Traitees\")\n",
    "    \n",
    "if not os.path.exists(\"Contenus\\Donnees\\Donnees_brutes\") : \n",
    "    os.mkdir(\"Contenus\\Donnees\\Donnees_brutes\")\n",
    "    \n",
    "# Création du dossier de cac40\n",
    "if not os.path.exists(\"Contenus\\Graphiques\") : \n",
    "    os.mkdir(\"Contenus\\Graphiques\")\n",
    "    \n",
    "\n",
    "folder_data_raw= r'Contenus\\Donnees\\Donnees_brutes'\n",
    "folder_data_clean=r'Contenus\\Donnees\\Donnees_Traitees'\n",
    "folder_graphique=r'Contenus\\Graphiques'\n",
    "if not os.path.exists(folder_data_raw) : os.mkdir(folder_data_raw)\n",
    "\n",
    "Algorithmes_consideres=['RF','SVM','Logit']"
   ]
  },
  {
   "cell_type": "code",
   "execution_count": 3,
   "metadata": {},
   "outputs": [
    {
     "data": {
      "text/plain": [
       "[]"
      ]
     },
     "execution_count": 3,
     "metadata": {},
     "output_type": "execute_result"
    }
   ],
   "source": [
    "def list_files(dir):\n",
    "    r = []\n",
    "    for root, dirs, files in os.walk(dir):\n",
    "        for name in files:\n",
    "            r.append(os.path.join(root, name))\n",
    "    return r\n",
    "    print(r)\n",
    "list_files(folder_data_raw)"
   ]
  },
  {
   "cell_type": "markdown",
   "metadata": {},
   "source": [
    "# Travail sur la base concatenée avec indicatrice de couleur du vin"
   ]
  },
  {
   "cell_type": "code",
   "execution_count": 4,
   "metadata": {},
   "outputs": [
    {
     "ename": "NameError",
     "evalue": "name 'pd' is not defined",
     "output_type": "error",
     "traceback": [
      "\u001b[0;31m---------------------------------------------------------------------------\u001b[0m",
      "\u001b[0;31mNameError\u001b[0m                                 Traceback (most recent call last)",
      "\u001b[0;32m<ipython-input-4-159fa7d0c66c>\u001b[0m in \u001b[0;36m<module>\u001b[0;34m()\u001b[0m\n\u001b[0;32m----> 1\u001b[0;31m \u001b[0mwinequality_red\u001b[0m\u001b[0;34m=\u001b[0m\u001b[0mpd\u001b[0m\u001b[0;34m.\u001b[0m\u001b[0mDataFrame\u001b[0m\u001b[0;34m.\u001b[0m\u001b[0mfrom_csv\u001b[0m\u001b[0;34m(\u001b[0m\u001b[0mlist_files\u001b[0m\u001b[0;34m(\u001b[0m\u001b[0mfolder_data_raw\u001b[0m\u001b[0;34m)\u001b[0m\u001b[0;34m[\u001b[0m\u001b[0;36m0\u001b[0m\u001b[0;34m]\u001b[0m\u001b[0;34m,\u001b[0m\u001b[0mindex_col\u001b[0m\u001b[0;34m=\u001b[0m\u001b[0;32mFalse\u001b[0m\u001b[0;34m,\u001b[0m\u001b[0mheader\u001b[0m\u001b[0;34m=\u001b[0m\u001b[0;36m0\u001b[0m\u001b[0;34m,\u001b[0m \u001b[0msep\u001b[0m\u001b[0;34m=\u001b[0m\u001b[0;34m';'\u001b[0m\u001b[0;34m,\u001b[0m \u001b[0mparse_dates\u001b[0m\u001b[0;34m=\u001b[0m\u001b[0;32mFalse\u001b[0m\u001b[0;34m,\u001b[0m \u001b[0mencoding\u001b[0m\u001b[0;34m=\u001b[0m\u001b[0;32mNone\u001b[0m\u001b[0;34m,\u001b[0m \u001b[0mtupleize_cols\u001b[0m\u001b[0;34m=\u001b[0m\u001b[0;32mFalse\u001b[0m\u001b[0;34m,\u001b[0m \u001b[0minfer_datetime_format\u001b[0m\u001b[0;34m=\u001b[0m\u001b[0;32mTrue\u001b[0m\u001b[0;34m)\u001b[0m\u001b[0;34m\u001b[0m\u001b[0m\n\u001b[0m\u001b[1;32m      2\u001b[0m \u001b[0mwinequality_white\u001b[0m\u001b[0;34m=\u001b[0m\u001b[0mpd\u001b[0m\u001b[0;34m.\u001b[0m\u001b[0mDataFrame\u001b[0m\u001b[0;34m.\u001b[0m\u001b[0mfrom_csv\u001b[0m\u001b[0;34m(\u001b[0m\u001b[0mlist_files\u001b[0m\u001b[0;34m(\u001b[0m\u001b[0mfolder_data_raw\u001b[0m\u001b[0;34m)\u001b[0m\u001b[0;34m[\u001b[0m\u001b[0;36m1\u001b[0m\u001b[0;34m]\u001b[0m\u001b[0;34m,\u001b[0m\u001b[0mindex_col\u001b[0m\u001b[0;34m=\u001b[0m\u001b[0;32mFalse\u001b[0m\u001b[0;34m,\u001b[0m\u001b[0mheader\u001b[0m\u001b[0;34m=\u001b[0m\u001b[0;36m0\u001b[0m\u001b[0;34m,\u001b[0m \u001b[0msep\u001b[0m\u001b[0;34m=\u001b[0m\u001b[0;34m';'\u001b[0m\u001b[0;34m,\u001b[0m \u001b[0mparse_dates\u001b[0m\u001b[0;34m=\u001b[0m\u001b[0;32mFalse\u001b[0m\u001b[0;34m,\u001b[0m \u001b[0mencoding\u001b[0m\u001b[0;34m=\u001b[0m\u001b[0;32mNone\u001b[0m\u001b[0;34m,\u001b[0m \u001b[0mtupleize_cols\u001b[0m\u001b[0;34m=\u001b[0m\u001b[0;32mFalse\u001b[0m\u001b[0;34m,\u001b[0m \u001b[0minfer_datetime_format\u001b[0m\u001b[0;34m=\u001b[0m\u001b[0;32mTrue\u001b[0m\u001b[0;34m)\u001b[0m\u001b[0;34m\u001b[0m\u001b[0m\n\u001b[1;32m      3\u001b[0m \u001b[0mwinequality_red\u001b[0m\u001b[0;34m[\u001b[0m\u001b[0;34m\"red\"\u001b[0m\u001b[0;34m]\u001b[0m\u001b[0;34m=\u001b[0m\u001b[0;36m1\u001b[0m\u001b[0;34m\u001b[0m\u001b[0m\n\u001b[1;32m      4\u001b[0m \u001b[0mwinequality_white\u001b[0m\u001b[0;34m[\u001b[0m\u001b[0;34m\"red\"\u001b[0m\u001b[0;34m]\u001b[0m\u001b[0;34m=\u001b[0m\u001b[0;36m0\u001b[0m\u001b[0;34m\u001b[0m\u001b[0m\n\u001b[1;32m      5\u001b[0m \u001b[0mwinequality\u001b[0m \u001b[0;34m=\u001b[0m \u001b[0mpd\u001b[0m\u001b[0;34m.\u001b[0m\u001b[0mconcat\u001b[0m\u001b[0;34m(\u001b[0m\u001b[0;34m[\u001b[0m\u001b[0mwinequality_white\u001b[0m\u001b[0;34m,\u001b[0m\u001b[0mwinequality_red\u001b[0m\u001b[0;34m]\u001b[0m\u001b[0;34m)\u001b[0m\u001b[0;34m\u001b[0m\u001b[0m\n",
      "\u001b[0;31mNameError\u001b[0m: name 'pd' is not defined"
     ]
    }
   ],
   "source": [
    "winequality_red=pd.DataFrame.from_csv(list_files(folder_data_raw)[0],index_col=False,header=0, sep=';', parse_dates=False, encoding=None, tupleize_cols=False, infer_datetime_format=True)\n",
    "winequality_white=pd.DataFrame.from_csv(list_files(folder_data_raw)[1],index_col=False,header=0, sep=';', parse_dates=False, encoding=None, tupleize_cols=False, infer_datetime_format=True)\n",
    "winequality_red[\"red\"]=1\n",
    "winequality_white[\"red\"]=0\n",
    "winequality = pd.concat([winequality_white,winequality_red])\n",
    "Variables=[X for X in winequality]\n",
    "#Création de toutes les interactions possibles\n",
    "Variables.remove(\"quality\")\n",
    "for X in Variables:\n",
    "    for Y in Variables :\n",
    "        winequality[X+\"*\"+Y]=winequality[X]*winequality[Y]\n",
    "#Normalisation de toutes les interactions possibles\n",
    "Variables_Finales=[X for X in winequality]\n",
    "Variables_Finales.remove(\"quality\")\n",
    "#X_train, X_test, Y_train, Y_test = train_test_split(winequality.loc[:, winequality.columns != 'quality'],winequality[\"quality\"])\n",
    "Liste_Variables=[X for X in Variables_Finales]"
   ]
  },
  {
   "cell_type": "code",
   "execution_count": 5,
   "metadata": {
    "collapsed": true
   },
   "outputs": [],
   "source": [
    "def Dico(Algo) :\n",
    "    global Accuracy\n",
    "    Accuracy={}\n",
    "    Accuracy.clear()\n",
    "    for Nom_Algotithme in Algo :\n",
    "            Accuracy[Nom_Algotithme]={}\n",
    "            Accuracy[Nom_Algotithme]['Selection_Variable']={}\n",
    "            Accuracy[Nom_Algotithme]['Selection_Variable']['Oui']=[]\n",
    "            Accuracy[Nom_Algotithme]['Selection_Variable']['Non']=[]"
   ]
  },
  {
   "cell_type": "code",
   "execution_count": 6,
   "metadata": {
    "collapsed": true
   },
   "outputs": [],
   "source": [
    "Dico(Algorithmes_consideres)\n"
   ]
  },
  {
   "cell_type": "code",
   "execution_count": 7,
   "metadata": {
    "collapsed": true
   },
   "outputs": [],
   "source": [
    "def Selection_Train_Test(Base,Nom_y,Boruta,Algorithme_Boruta, Algotithme_Entraine,Nom_Algotithme):\n",
    "    #Base : Base à splitter\n",
    "    #Nom_y : Nom de la variable d'intérêt\n",
    "    #Boruta : Activer la sélection de variables avec Boruta ? 'Oui' ou 'Non'\n",
    "    #Algorithme_Boruta : Mettre l'algorithme sur lequel repose le choix de Boruta (mettre le classi Sklearn)\n",
    "    #Algotithme_Entraine : Choisir l'algorithme entrainé et servant à tester \n",
    "    #Nom_Algotithme : Abréviation du nom de l'algo utilisé. Doit obligatoirement être défini dans la liste 'Algorithmes_consideres'\n",
    "                      #définie dans la cellule 2 du notebook\n",
    "    if Nom_Algotithme not in Algorithmes_consideres :\n",
    "        print(\"Le nom de l'algorithme doit être dans la liste 'Algo'\")\n",
    "    if Boruta not in [\"Oui\",\"Non\"]:\n",
    "        print(\"L'entrée Boruta doit prendre la valeur 'Oui' ou 'Non'\")\n",
    "    X_train, X_test, Y_train, Y_test = train_test_split(Base.loc[:, Base.columns != Nom_y],Base[Nom_y])\n",
    "    x_train = X_train.values\n",
    "    y_train = Y_train.values\n",
    "    y_train = y_train.ravel()\n",
    "    y_test = Y_test.values\n",
    "    y_test = y_test.ravel()\n",
    "    \n",
    "    if Boruta=='Oui' :\n",
    "        # define Boruta feature selection method\n",
    "        feat_selector = BorutaPy(Algorithme_Boruta, n_estimators=100, verbose=2, random_state=1)\n",
    "\n",
    "        # find all relevant features - 5 features should be selected\n",
    "        feat_selector.fit(x_train, y_train)\n",
    "\n",
    "        # check selected features\n",
    "        feat_selector.support_\n",
    "\n",
    "        # check ranking of features\n",
    "        feat_selector.ranking_\n",
    "\n",
    "        selected_train = x_train[:,feat_selector.support_]\n",
    "        print (\"\")\n",
    "        print (\"Selected Feature Matrix Shape\")\n",
    "        print (selected_train.shape)\n",
    "\n",
    "        Select=[X for X in feat_selector.support_]\n",
    "        Liste_Var_Selectionnees=[]\n",
    "        for x in range(0,len(Select)) :\n",
    "            Var=Select[x]\n",
    "            if Var==True :\n",
    "                Liste_Var_Selectionnees.append(Liste_Variables[x])\n",
    "        print(Liste_Var_Selectionnees)\n",
    "        selected_train = pd.DataFrame(selected_train)\n",
    "\n",
    "        for x in range(0,len(selected_train.columns)) :\n",
    "                selected_train = selected_train.rename(columns={x: Liste_Var_Selectionnees[x]})\n",
    "        selected_test=X_test\n",
    "        for X in X_test.columns:\n",
    "            if X not in selected_train.columns :\n",
    "                selected_test=selected_test.drop(X,1)\n",
    "\n",
    "        clf=Algotithme_Entraine\n",
    "        clf.fit(selected_train, y_train)\n",
    "        Accuracy[Nom_Algotithme]['Selection_Variable'][Boruta].append(clf.score(selected_test,y_test))\n",
    "        \n",
    "    if Boruta==\"Non\" :\n",
    "        x_test = X_test.values\n",
    "        clf=Algotithme_Entraine\n",
    "        clf.fit(x_train, y_train)\n",
    "        Accuracy[Nom_Algotithme]['Selection_Variable'][Boruta].append(clf.score(x_test,y_test))"
   ]
  },
  {
   "cell_type": "code",
   "execution_count": 8,
   "metadata": {},
   "outputs": [
    {
     "name": "stdout",
     "output_type": "stream",
     "text": [
      "Iteration: \t1 / 100\n",
      "Confirmed: \t0\n",
      "Tentative: \t156\n",
      "Rejected: \t0\n",
      "Iteration: \t2 / 100\n",
      "Confirmed: \t0\n",
      "Tentative: \t156\n",
      "Rejected: \t0\n",
      "Iteration: \t3 / 100\n",
      "Confirmed: \t0\n",
      "Tentative: \t156\n",
      "Rejected: \t0\n",
      "Iteration: \t4 / 100\n",
      "Confirmed: \t0\n",
      "Tentative: \t156\n",
      "Rejected: \t0\n",
      "Iteration: \t5 / 100\n",
      "Confirmed: \t0\n",
      "Tentative: \t156\n",
      "Rejected: \t0\n",
      "Iteration: \t6 / 100\n",
      "Confirmed: \t0\n",
      "Tentative: \t156\n",
      "Rejected: \t0\n",
      "Iteration: \t7 / 100\n",
      "Confirmed: \t0\n",
      "Tentative: \t156\n",
      "Rejected: \t0\n",
      "Iteration: \t8 / 100\n",
      "Confirmed: \t27\n",
      "Tentative: \t44\n",
      "Rejected: \t85\n"
     ]
    },
    {
     "name": "stderr",
     "output_type": "stream",
     "text": [
      "C:\\Users\\olivi\\Desktop\\Logiciel Pro\\PythonEnsae\\python\\lib\\site-packages\\boruta\\boruta_py.py:418: RuntimeWarning:\n",
      "\n",
      "invalid value encountered in greater\n",
      "\n"
     ]
    },
    {
     "name": "stdout",
     "output_type": "stream",
     "text": [
      "Iteration: \t9 / 100\n",
      "Confirmed: \t27\n",
      "Tentative: \t44\n",
      "Rejected: \t85\n"
     ]
    },
    {
     "name": "stderr",
     "output_type": "stream",
     "text": [
      "C:\\Users\\olivi\\Desktop\\Logiciel Pro\\PythonEnsae\\python\\lib\\site-packages\\boruta\\boruta_py.py:418: RuntimeWarning:\n",
      "\n",
      "invalid value encountered in greater\n",
      "\n"
     ]
    },
    {
     "name": "stdout",
     "output_type": "stream",
     "text": [
      "Iteration: \t10 / 100\n",
      "Confirmed: \t27\n",
      "Tentative: \t44\n",
      "Rejected: \t85\n"
     ]
    },
    {
     "name": "stderr",
     "output_type": "stream",
     "text": [
      "C:\\Users\\olivi\\Desktop\\Logiciel Pro\\PythonEnsae\\python\\lib\\site-packages\\boruta\\boruta_py.py:418: RuntimeWarning:\n",
      "\n",
      "invalid value encountered in greater\n",
      "\n"
     ]
    },
    {
     "name": "stdout",
     "output_type": "stream",
     "text": [
      "Iteration: \t11 / 100\n",
      "Confirmed: \t27\n",
      "Tentative: \t44\n",
      "Rejected: \t85\n"
     ]
    },
    {
     "name": "stderr",
     "output_type": "stream",
     "text": [
      "C:\\Users\\olivi\\Desktop\\Logiciel Pro\\PythonEnsae\\python\\lib\\site-packages\\boruta\\boruta_py.py:418: RuntimeWarning:\n",
      "\n",
      "invalid value encountered in greater\n",
      "\n"
     ]
    },
    {
     "name": "stdout",
     "output_type": "stream",
     "text": [
      "Iteration: \t12 / 100\n",
      "Confirmed: \t30\n",
      "Tentative: \t41\n",
      "Rejected: \t85\n"
     ]
    },
    {
     "name": "stderr",
     "output_type": "stream",
     "text": [
      "C:\\Users\\olivi\\Desktop\\Logiciel Pro\\PythonEnsae\\python\\lib\\site-packages\\boruta\\boruta_py.py:418: RuntimeWarning:\n",
      "\n",
      "invalid value encountered in greater\n",
      "\n"
     ]
    },
    {
     "name": "stdout",
     "output_type": "stream",
     "text": [
      "Iteration: \t13 / 100\n",
      "Confirmed: \t30\n",
      "Tentative: \t41\n",
      "Rejected: \t85\n"
     ]
    },
    {
     "name": "stderr",
     "output_type": "stream",
     "text": [
      "C:\\Users\\olivi\\Desktop\\Logiciel Pro\\PythonEnsae\\python\\lib\\site-packages\\boruta\\boruta_py.py:418: RuntimeWarning:\n",
      "\n",
      "invalid value encountered in greater\n",
      "\n"
     ]
    },
    {
     "name": "stdout",
     "output_type": "stream",
     "text": [
      "Iteration: \t14 / 100\n",
      "Confirmed: \t30\n",
      "Tentative: \t41\n",
      "Rejected: \t85\n"
     ]
    },
    {
     "name": "stderr",
     "output_type": "stream",
     "text": [
      "C:\\Users\\olivi\\Desktop\\Logiciel Pro\\PythonEnsae\\python\\lib\\site-packages\\boruta\\boruta_py.py:418: RuntimeWarning:\n",
      "\n",
      "invalid value encountered in greater\n",
      "\n"
     ]
    },
    {
     "name": "stdout",
     "output_type": "stream",
     "text": [
      "Iteration: \t15 / 100\n",
      "Confirmed: \t30\n",
      "Tentative: \t41\n",
      "Rejected: \t85\n"
     ]
    },
    {
     "name": "stderr",
     "output_type": "stream",
     "text": [
      "C:\\Users\\olivi\\Desktop\\Logiciel Pro\\PythonEnsae\\python\\lib\\site-packages\\boruta\\boruta_py.py:418: RuntimeWarning:\n",
      "\n",
      "invalid value encountered in greater\n",
      "\n"
     ]
    },
    {
     "name": "stdout",
     "output_type": "stream",
     "text": [
      "Iteration: \t16 / 100\n",
      "Confirmed: \t31\n",
      "Tentative: \t40\n",
      "Rejected: \t85\n"
     ]
    },
    {
     "name": "stderr",
     "output_type": "stream",
     "text": [
      "C:\\Users\\olivi\\Desktop\\Logiciel Pro\\PythonEnsae\\python\\lib\\site-packages\\boruta\\boruta_py.py:418: RuntimeWarning:\n",
      "\n",
      "invalid value encountered in greater\n",
      "\n"
     ]
    },
    {
     "name": "stdout",
     "output_type": "stream",
     "text": [
      "Iteration: \t17 / 100\n",
      "Confirmed: \t31\n",
      "Tentative: \t40\n",
      "Rejected: \t85\n"
     ]
    },
    {
     "name": "stderr",
     "output_type": "stream",
     "text": [
      "C:\\Users\\olivi\\Desktop\\Logiciel Pro\\PythonEnsae\\python\\lib\\site-packages\\boruta\\boruta_py.py:418: RuntimeWarning:\n",
      "\n",
      "invalid value encountered in greater\n",
      "\n"
     ]
    },
    {
     "name": "stdout",
     "output_type": "stream",
     "text": [
      "Iteration: \t18 / 100\n",
      "Confirmed: \t31\n",
      "Tentative: \t39\n",
      "Rejected: \t86\n"
     ]
    },
    {
     "name": "stderr",
     "output_type": "stream",
     "text": [
      "C:\\Users\\olivi\\Desktop\\Logiciel Pro\\PythonEnsae\\python\\lib\\site-packages\\boruta\\boruta_py.py:418: RuntimeWarning:\n",
      "\n",
      "invalid value encountered in greater\n",
      "\n"
     ]
    },
    {
     "name": "stdout",
     "output_type": "stream",
     "text": [
      "Iteration: \t19 / 100\n",
      "Confirmed: \t32\n",
      "Tentative: \t38\n",
      "Rejected: \t86\n"
     ]
    },
    {
     "name": "stderr",
     "output_type": "stream",
     "text": [
      "C:\\Users\\olivi\\Desktop\\Logiciel Pro\\PythonEnsae\\python\\lib\\site-packages\\boruta\\boruta_py.py:418: RuntimeWarning:\n",
      "\n",
      "invalid value encountered in greater\n",
      "\n"
     ]
    },
    {
     "name": "stdout",
     "output_type": "stream",
     "text": [
      "Iteration: \t20 / 100\n",
      "Confirmed: \t32\n",
      "Tentative: \t38\n",
      "Rejected: \t86\n"
     ]
    },
    {
     "name": "stderr",
     "output_type": "stream",
     "text": [
      "C:\\Users\\olivi\\Desktop\\Logiciel Pro\\PythonEnsae\\python\\lib\\site-packages\\boruta\\boruta_py.py:418: RuntimeWarning:\n",
      "\n",
      "invalid value encountered in greater\n",
      "\n"
     ]
    },
    {
     "name": "stdout",
     "output_type": "stream",
     "text": [
      "Iteration: \t21 / 100\n",
      "Confirmed: \t32\n",
      "Tentative: \t38\n",
      "Rejected: \t86\n"
     ]
    },
    {
     "name": "stderr",
     "output_type": "stream",
     "text": [
      "C:\\Users\\olivi\\Desktop\\Logiciel Pro\\PythonEnsae\\python\\lib\\site-packages\\boruta\\boruta_py.py:418: RuntimeWarning:\n",
      "\n",
      "invalid value encountered in greater\n",
      "\n"
     ]
    },
    {
     "name": "stdout",
     "output_type": "stream",
     "text": [
      "Iteration: \t22 / 100\n",
      "Confirmed: \t34\n",
      "Tentative: \t35\n",
      "Rejected: \t87\n"
     ]
    },
    {
     "name": "stderr",
     "output_type": "stream",
     "text": [
      "C:\\Users\\olivi\\Desktop\\Logiciel Pro\\PythonEnsae\\python\\lib\\site-packages\\boruta\\boruta_py.py:418: RuntimeWarning:\n",
      "\n",
      "invalid value encountered in greater\n",
      "\n"
     ]
    },
    {
     "name": "stdout",
     "output_type": "stream",
     "text": [
      "Iteration: \t23 / 100\n",
      "Confirmed: \t34\n",
      "Tentative: \t34\n",
      "Rejected: \t88\n"
     ]
    },
    {
     "name": "stderr",
     "output_type": "stream",
     "text": [
      "C:\\Users\\olivi\\Desktop\\Logiciel Pro\\PythonEnsae\\python\\lib\\site-packages\\boruta\\boruta_py.py:418: RuntimeWarning:\n",
      "\n",
      "invalid value encountered in greater\n",
      "\n"
     ]
    },
    {
     "name": "stdout",
     "output_type": "stream",
     "text": [
      "Iteration: \t24 / 100\n",
      "Confirmed: \t34\n",
      "Tentative: \t34\n",
      "Rejected: \t88\n"
     ]
    },
    {
     "name": "stderr",
     "output_type": "stream",
     "text": [
      "C:\\Users\\olivi\\Desktop\\Logiciel Pro\\PythonEnsae\\python\\lib\\site-packages\\boruta\\boruta_py.py:418: RuntimeWarning:\n",
      "\n",
      "invalid value encountered in greater\n",
      "\n"
     ]
    },
    {
     "name": "stdout",
     "output_type": "stream",
     "text": [
      "Iteration: \t25 / 100\n",
      "Confirmed: \t34\n",
      "Tentative: \t34\n",
      "Rejected: \t88\n"
     ]
    },
    {
     "name": "stderr",
     "output_type": "stream",
     "text": [
      "C:\\Users\\olivi\\Desktop\\Logiciel Pro\\PythonEnsae\\python\\lib\\site-packages\\boruta\\boruta_py.py:418: RuntimeWarning:\n",
      "\n",
      "invalid value encountered in greater\n",
      "\n"
     ]
    },
    {
     "name": "stdout",
     "output_type": "stream",
     "text": [
      "Iteration: \t26 / 100\n",
      "Confirmed: \t34\n",
      "Tentative: \t32\n",
      "Rejected: \t90\n"
     ]
    },
    {
     "name": "stderr",
     "output_type": "stream",
     "text": [
      "C:\\Users\\olivi\\Desktop\\Logiciel Pro\\PythonEnsae\\python\\lib\\site-packages\\boruta\\boruta_py.py:418: RuntimeWarning:\n",
      "\n",
      "invalid value encountered in greater\n",
      "\n"
     ]
    },
    {
     "name": "stdout",
     "output_type": "stream",
     "text": [
      "Iteration: \t27 / 100\n",
      "Confirmed: \t34\n",
      "Tentative: \t32\n",
      "Rejected: \t90\n"
     ]
    },
    {
     "name": "stderr",
     "output_type": "stream",
     "text": [
      "C:\\Users\\olivi\\Desktop\\Logiciel Pro\\PythonEnsae\\python\\lib\\site-packages\\boruta\\boruta_py.py:418: RuntimeWarning:\n",
      "\n",
      "invalid value encountered in greater\n",
      "\n"
     ]
    },
    {
     "name": "stdout",
     "output_type": "stream",
     "text": [
      "Iteration: \t28 / 100\n",
      "Confirmed: \t34\n",
      "Tentative: \t32\n",
      "Rejected: \t90\n"
     ]
    },
    {
     "name": "stderr",
     "output_type": "stream",
     "text": [
      "C:\\Users\\olivi\\Desktop\\Logiciel Pro\\PythonEnsae\\python\\lib\\site-packages\\boruta\\boruta_py.py:418: RuntimeWarning:\n",
      "\n",
      "invalid value encountered in greater\n",
      "\n"
     ]
    },
    {
     "name": "stdout",
     "output_type": "stream",
     "text": [
      "Iteration: \t29 / 100\n",
      "Confirmed: \t35\n",
      "Tentative: \t27\n",
      "Rejected: \t94\n"
     ]
    },
    {
     "name": "stderr",
     "output_type": "stream",
     "text": [
      "C:\\Users\\olivi\\Desktop\\Logiciel Pro\\PythonEnsae\\python\\lib\\site-packages\\boruta\\boruta_py.py:418: RuntimeWarning:\n",
      "\n",
      "invalid value encountered in greater\n",
      "\n"
     ]
    },
    {
     "name": "stdout",
     "output_type": "stream",
     "text": [
      "Iteration: \t30 / 100\n",
      "Confirmed: \t35\n",
      "Tentative: \t27\n",
      "Rejected: \t94\n"
     ]
    },
    {
     "name": "stderr",
     "output_type": "stream",
     "text": [
      "C:\\Users\\olivi\\Desktop\\Logiciel Pro\\PythonEnsae\\python\\lib\\site-packages\\boruta\\boruta_py.py:418: RuntimeWarning:\n",
      "\n",
      "invalid value encountered in greater\n",
      "\n"
     ]
    },
    {
     "name": "stdout",
     "output_type": "stream",
     "text": [
      "Iteration: \t31 / 100\n",
      "Confirmed: \t35\n",
      "Tentative: \t27\n",
      "Rejected: \t94\n"
     ]
    },
    {
     "name": "stderr",
     "output_type": "stream",
     "text": [
      "C:\\Users\\olivi\\Desktop\\Logiciel Pro\\PythonEnsae\\python\\lib\\site-packages\\boruta\\boruta_py.py:418: RuntimeWarning:\n",
      "\n",
      "invalid value encountered in greater\n",
      "\n"
     ]
    },
    {
     "name": "stdout",
     "output_type": "stream",
     "text": [
      "Iteration: \t32 / 100\n",
      "Confirmed: \t35\n",
      "Tentative: \t23\n",
      "Rejected: \t98\n"
     ]
    },
    {
     "name": "stderr",
     "output_type": "stream",
     "text": [
      "C:\\Users\\olivi\\Desktop\\Logiciel Pro\\PythonEnsae\\python\\lib\\site-packages\\boruta\\boruta_py.py:418: RuntimeWarning:\n",
      "\n",
      "invalid value encountered in greater\n",
      "\n"
     ]
    },
    {
     "name": "stdout",
     "output_type": "stream",
     "text": [
      "Iteration: \t33 / 100\n",
      "Confirmed: \t35\n",
      "Tentative: \t23\n",
      "Rejected: \t98\n"
     ]
    },
    {
     "name": "stderr",
     "output_type": "stream",
     "text": [
      "C:\\Users\\olivi\\Desktop\\Logiciel Pro\\PythonEnsae\\python\\lib\\site-packages\\boruta\\boruta_py.py:418: RuntimeWarning:\n",
      "\n",
      "invalid value encountered in greater\n",
      "\n"
     ]
    },
    {
     "name": "stdout",
     "output_type": "stream",
     "text": [
      "Iteration: \t34 / 100\n",
      "Confirmed: \t36\n",
      "Tentative: \t22\n",
      "Rejected: \t98\n"
     ]
    },
    {
     "name": "stderr",
     "output_type": "stream",
     "text": [
      "C:\\Users\\olivi\\Desktop\\Logiciel Pro\\PythonEnsae\\python\\lib\\site-packages\\boruta\\boruta_py.py:418: RuntimeWarning:\n",
      "\n",
      "invalid value encountered in greater\n",
      "\n"
     ]
    },
    {
     "name": "stdout",
     "output_type": "stream",
     "text": [
      "Iteration: \t35 / 100\n",
      "Confirmed: \t36\n",
      "Tentative: \t22\n",
      "Rejected: \t98\n"
     ]
    },
    {
     "name": "stderr",
     "output_type": "stream",
     "text": [
      "C:\\Users\\olivi\\Desktop\\Logiciel Pro\\PythonEnsae\\python\\lib\\site-packages\\boruta\\boruta_py.py:418: RuntimeWarning:\n",
      "\n",
      "invalid value encountered in greater\n",
      "\n"
     ]
    },
    {
     "name": "stdout",
     "output_type": "stream",
     "text": [
      "Iteration: \t36 / 100\n",
      "Confirmed: \t36\n",
      "Tentative: \t22\n",
      "Rejected: \t98\n"
     ]
    },
    {
     "name": "stderr",
     "output_type": "stream",
     "text": [
      "C:\\Users\\olivi\\Desktop\\Logiciel Pro\\PythonEnsae\\python\\lib\\site-packages\\boruta\\boruta_py.py:418: RuntimeWarning:\n",
      "\n",
      "invalid value encountered in greater\n",
      "\n"
     ]
    },
    {
     "name": "stdout",
     "output_type": "stream",
     "text": [
      "Iteration: \t37 / 100\n",
      "Confirmed: \t38\n",
      "Tentative: \t20\n",
      "Rejected: \t98\n"
     ]
    },
    {
     "name": "stderr",
     "output_type": "stream",
     "text": [
      "C:\\Users\\olivi\\Desktop\\Logiciel Pro\\PythonEnsae\\python\\lib\\site-packages\\boruta\\boruta_py.py:418: RuntimeWarning:\n",
      "\n",
      "invalid value encountered in greater\n",
      "\n"
     ]
    },
    {
     "name": "stdout",
     "output_type": "stream",
     "text": [
      "Iteration: \t38 / 100\n",
      "Confirmed: \t38\n",
      "Tentative: \t19\n",
      "Rejected: \t99\n"
     ]
    },
    {
     "name": "stderr",
     "output_type": "stream",
     "text": [
      "C:\\Users\\olivi\\Desktop\\Logiciel Pro\\PythonEnsae\\python\\lib\\site-packages\\boruta\\boruta_py.py:418: RuntimeWarning:\n",
      "\n",
      "invalid value encountered in greater\n",
      "\n"
     ]
    },
    {
     "name": "stdout",
     "output_type": "stream",
     "text": [
      "Iteration: \t39 / 100\n",
      "Confirmed: \t38\n",
      "Tentative: \t19\n",
      "Rejected: \t99\n"
     ]
    },
    {
     "name": "stderr",
     "output_type": "stream",
     "text": [
      "C:\\Users\\olivi\\Desktop\\Logiciel Pro\\PythonEnsae\\python\\lib\\site-packages\\boruta\\boruta_py.py:418: RuntimeWarning:\n",
      "\n",
      "invalid value encountered in greater\n",
      "\n"
     ]
    },
    {
     "name": "stdout",
     "output_type": "stream",
     "text": [
      "Iteration: \t40 / 100\n",
      "Confirmed: \t39\n",
      "Tentative: \t18\n",
      "Rejected: \t99\n"
     ]
    },
    {
     "name": "stderr",
     "output_type": "stream",
     "text": [
      "C:\\Users\\olivi\\Desktop\\Logiciel Pro\\PythonEnsae\\python\\lib\\site-packages\\boruta\\boruta_py.py:418: RuntimeWarning:\n",
      "\n",
      "invalid value encountered in greater\n",
      "\n"
     ]
    },
    {
     "name": "stdout",
     "output_type": "stream",
     "text": [
      "Iteration: \t41 / 100\n",
      "Confirmed: \t39\n",
      "Tentative: \t18\n",
      "Rejected: \t99\n"
     ]
    },
    {
     "name": "stderr",
     "output_type": "stream",
     "text": [
      "C:\\Users\\olivi\\Desktop\\Logiciel Pro\\PythonEnsae\\python\\lib\\site-packages\\boruta\\boruta_py.py:418: RuntimeWarning:\n",
      "\n",
      "invalid value encountered in greater\n",
      "\n"
     ]
    },
    {
     "name": "stdout",
     "output_type": "stream",
     "text": [
      "Iteration: \t42 / 100\n",
      "Confirmed: \t39\n",
      "Tentative: \t18\n",
      "Rejected: \t99\n"
     ]
    },
    {
     "name": "stderr",
     "output_type": "stream",
     "text": [
      "C:\\Users\\olivi\\Desktop\\Logiciel Pro\\PythonEnsae\\python\\lib\\site-packages\\boruta\\boruta_py.py:418: RuntimeWarning:\n",
      "\n",
      "invalid value encountered in greater\n",
      "\n"
     ]
    },
    {
     "name": "stdout",
     "output_type": "stream",
     "text": [
      "Iteration: \t43 / 100\n",
      "Confirmed: \t39\n",
      "Tentative: \t18\n",
      "Rejected: \t99\n"
     ]
    },
    {
     "name": "stderr",
     "output_type": "stream",
     "text": [
      "C:\\Users\\olivi\\Desktop\\Logiciel Pro\\PythonEnsae\\python\\lib\\site-packages\\boruta\\boruta_py.py:418: RuntimeWarning:\n",
      "\n",
      "invalid value encountered in greater\n",
      "\n"
     ]
    },
    {
     "name": "stdout",
     "output_type": "stream",
     "text": [
      "Iteration: \t44 / 100\n",
      "Confirmed: \t39\n",
      "Tentative: \t18\n",
      "Rejected: \t99\n"
     ]
    },
    {
     "name": "stderr",
     "output_type": "stream",
     "text": [
      "C:\\Users\\olivi\\Desktop\\Logiciel Pro\\PythonEnsae\\python\\lib\\site-packages\\boruta\\boruta_py.py:418: RuntimeWarning:\n",
      "\n",
      "invalid value encountered in greater\n",
      "\n"
     ]
    },
    {
     "name": "stdout",
     "output_type": "stream",
     "text": [
      "Iteration: \t45 / 100\n",
      "Confirmed: \t39\n",
      "Tentative: \t18\n",
      "Rejected: \t99\n"
     ]
    },
    {
     "name": "stderr",
     "output_type": "stream",
     "text": [
      "C:\\Users\\olivi\\Desktop\\Logiciel Pro\\PythonEnsae\\python\\lib\\site-packages\\boruta\\boruta_py.py:418: RuntimeWarning:\n",
      "\n",
      "invalid value encountered in greater\n",
      "\n"
     ]
    },
    {
     "name": "stdout",
     "output_type": "stream",
     "text": [
      "Iteration: \t46 / 100\n",
      "Confirmed: \t40\n",
      "Tentative: \t16\n",
      "Rejected: \t100\n"
     ]
    },
    {
     "name": "stderr",
     "output_type": "stream",
     "text": [
      "C:\\Users\\olivi\\Desktop\\Logiciel Pro\\PythonEnsae\\python\\lib\\site-packages\\boruta\\boruta_py.py:418: RuntimeWarning:\n",
      "\n",
      "invalid value encountered in greater\n",
      "\n"
     ]
    },
    {
     "name": "stdout",
     "output_type": "stream",
     "text": [
      "Iteration: \t47 / 100\n",
      "Confirmed: \t40\n",
      "Tentative: \t16\n",
      "Rejected: \t100\n"
     ]
    },
    {
     "name": "stderr",
     "output_type": "stream",
     "text": [
      "C:\\Users\\olivi\\Desktop\\Logiciel Pro\\PythonEnsae\\python\\lib\\site-packages\\boruta\\boruta_py.py:418: RuntimeWarning:\n",
      "\n",
      "invalid value encountered in greater\n",
      "\n"
     ]
    },
    {
     "name": "stdout",
     "output_type": "stream",
     "text": [
      "Iteration: \t48 / 100\n",
      "Confirmed: \t40\n",
      "Tentative: \t16\n",
      "Rejected: \t100\n"
     ]
    },
    {
     "name": "stderr",
     "output_type": "stream",
     "text": [
      "C:\\Users\\olivi\\Desktop\\Logiciel Pro\\PythonEnsae\\python\\lib\\site-packages\\boruta\\boruta_py.py:418: RuntimeWarning:\n",
      "\n",
      "invalid value encountered in greater\n",
      "\n"
     ]
    },
    {
     "name": "stdout",
     "output_type": "stream",
     "text": [
      "Iteration: \t49 / 100\n",
      "Confirmed: \t41\n",
      "Tentative: \t15\n",
      "Rejected: \t100\n"
     ]
    },
    {
     "name": "stderr",
     "output_type": "stream",
     "text": [
      "C:\\Users\\olivi\\Desktop\\Logiciel Pro\\PythonEnsae\\python\\lib\\site-packages\\boruta\\boruta_py.py:418: RuntimeWarning:\n",
      "\n",
      "invalid value encountered in greater\n",
      "\n"
     ]
    },
    {
     "name": "stdout",
     "output_type": "stream",
     "text": [
      "Iteration: \t50 / 100\n",
      "Confirmed: \t41\n",
      "Tentative: \t15\n",
      "Rejected: \t100\n"
     ]
    },
    {
     "name": "stderr",
     "output_type": "stream",
     "text": [
      "C:\\Users\\olivi\\Desktop\\Logiciel Pro\\PythonEnsae\\python\\lib\\site-packages\\boruta\\boruta_py.py:418: RuntimeWarning:\n",
      "\n",
      "invalid value encountered in greater\n",
      "\n"
     ]
    },
    {
     "name": "stdout",
     "output_type": "stream",
     "text": [
      "Iteration: \t51 / 100\n",
      "Confirmed: \t41\n",
      "Tentative: \t15\n",
      "Rejected: \t100\n"
     ]
    },
    {
     "name": "stderr",
     "output_type": "stream",
     "text": [
      "C:\\Users\\olivi\\Desktop\\Logiciel Pro\\PythonEnsae\\python\\lib\\site-packages\\boruta\\boruta_py.py:418: RuntimeWarning:\n",
      "\n",
      "invalid value encountered in greater\n",
      "\n"
     ]
    },
    {
     "name": "stdout",
     "output_type": "stream",
     "text": [
      "Iteration: \t52 / 100\n",
      "Confirmed: \t41\n",
      "Tentative: \t15\n",
      "Rejected: \t100\n"
     ]
    },
    {
     "name": "stderr",
     "output_type": "stream",
     "text": [
      "C:\\Users\\olivi\\Desktop\\Logiciel Pro\\PythonEnsae\\python\\lib\\site-packages\\boruta\\boruta_py.py:418: RuntimeWarning:\n",
      "\n",
      "invalid value encountered in greater\n",
      "\n"
     ]
    },
    {
     "name": "stdout",
     "output_type": "stream",
     "text": [
      "Iteration: \t53 / 100\n",
      "Confirmed: \t41\n",
      "Tentative: \t15\n",
      "Rejected: \t100\n"
     ]
    },
    {
     "name": "stderr",
     "output_type": "stream",
     "text": [
      "C:\\Users\\olivi\\Desktop\\Logiciel Pro\\PythonEnsae\\python\\lib\\site-packages\\boruta\\boruta_py.py:418: RuntimeWarning:\n",
      "\n",
      "invalid value encountered in greater\n",
      "\n"
     ]
    },
    {
     "name": "stdout",
     "output_type": "stream",
     "text": [
      "Iteration: \t54 / 100\n",
      "Confirmed: \t41\n",
      "Tentative: \t15\n",
      "Rejected: \t100\n"
     ]
    },
    {
     "name": "stderr",
     "output_type": "stream",
     "text": [
      "C:\\Users\\olivi\\Desktop\\Logiciel Pro\\PythonEnsae\\python\\lib\\site-packages\\boruta\\boruta_py.py:418: RuntimeWarning:\n",
      "\n",
      "invalid value encountered in greater\n",
      "\n"
     ]
    },
    {
     "name": "stdout",
     "output_type": "stream",
     "text": [
      "Iteration: \t55 / 100\n",
      "Confirmed: \t41\n",
      "Tentative: \t15\n",
      "Rejected: \t100\n"
     ]
    },
    {
     "name": "stderr",
     "output_type": "stream",
     "text": [
      "C:\\Users\\olivi\\Desktop\\Logiciel Pro\\PythonEnsae\\python\\lib\\site-packages\\boruta\\boruta_py.py:418: RuntimeWarning:\n",
      "\n",
      "invalid value encountered in greater\n",
      "\n"
     ]
    },
    {
     "name": "stdout",
     "output_type": "stream",
     "text": [
      "Iteration: \t56 / 100\n",
      "Confirmed: \t41\n",
      "Tentative: \t15\n",
      "Rejected: \t100\n"
     ]
    },
    {
     "name": "stderr",
     "output_type": "stream",
     "text": [
      "C:\\Users\\olivi\\Desktop\\Logiciel Pro\\PythonEnsae\\python\\lib\\site-packages\\boruta\\boruta_py.py:418: RuntimeWarning:\n",
      "\n",
      "invalid value encountered in greater\n",
      "\n"
     ]
    },
    {
     "name": "stdout",
     "output_type": "stream",
     "text": [
      "Iteration: \t57 / 100\n",
      "Confirmed: \t43\n",
      "Tentative: \t13\n",
      "Rejected: \t100\n"
     ]
    },
    {
     "name": "stderr",
     "output_type": "stream",
     "text": [
      "C:\\Users\\olivi\\Desktop\\Logiciel Pro\\PythonEnsae\\python\\lib\\site-packages\\boruta\\boruta_py.py:418: RuntimeWarning:\n",
      "\n",
      "invalid value encountered in greater\n",
      "\n"
     ]
    },
    {
     "name": "stdout",
     "output_type": "stream",
     "text": [
      "Iteration: \t58 / 100\n",
      "Confirmed: \t43\n",
      "Tentative: \t13\n",
      "Rejected: \t100\n"
     ]
    },
    {
     "name": "stderr",
     "output_type": "stream",
     "text": [
      "C:\\Users\\olivi\\Desktop\\Logiciel Pro\\PythonEnsae\\python\\lib\\site-packages\\boruta\\boruta_py.py:418: RuntimeWarning:\n",
      "\n",
      "invalid value encountered in greater\n",
      "\n"
     ]
    },
    {
     "name": "stdout",
     "output_type": "stream",
     "text": [
      "Iteration: \t59 / 100\n",
      "Confirmed: \t43\n",
      "Tentative: \t13\n",
      "Rejected: \t100\n"
     ]
    },
    {
     "name": "stderr",
     "output_type": "stream",
     "text": [
      "C:\\Users\\olivi\\Desktop\\Logiciel Pro\\PythonEnsae\\python\\lib\\site-packages\\boruta\\boruta_py.py:418: RuntimeWarning:\n",
      "\n",
      "invalid value encountered in greater\n",
      "\n"
     ]
    },
    {
     "name": "stdout",
     "output_type": "stream",
     "text": [
      "Iteration: \t60 / 100\n",
      "Confirmed: \t43\n",
      "Tentative: \t13\n",
      "Rejected: \t100\n"
     ]
    },
    {
     "name": "stderr",
     "output_type": "stream",
     "text": [
      "C:\\Users\\olivi\\Desktop\\Logiciel Pro\\PythonEnsae\\python\\lib\\site-packages\\boruta\\boruta_py.py:418: RuntimeWarning:\n",
      "\n",
      "invalid value encountered in greater\n",
      "\n"
     ]
    },
    {
     "name": "stdout",
     "output_type": "stream",
     "text": [
      "Iteration: \t61 / 100\n",
      "Confirmed: \t43\n",
      "Tentative: \t13\n",
      "Rejected: \t100\n"
     ]
    },
    {
     "name": "stderr",
     "output_type": "stream",
     "text": [
      "C:\\Users\\olivi\\Desktop\\Logiciel Pro\\PythonEnsae\\python\\lib\\site-packages\\boruta\\boruta_py.py:418: RuntimeWarning:\n",
      "\n",
      "invalid value encountered in greater\n",
      "\n"
     ]
    },
    {
     "name": "stdout",
     "output_type": "stream",
     "text": [
      "Iteration: \t62 / 100\n",
      "Confirmed: \t43\n",
      "Tentative: \t13\n",
      "Rejected: \t100\n"
     ]
    },
    {
     "name": "stderr",
     "output_type": "stream",
     "text": [
      "C:\\Users\\olivi\\Desktop\\Logiciel Pro\\PythonEnsae\\python\\lib\\site-packages\\boruta\\boruta_py.py:418: RuntimeWarning:\n",
      "\n",
      "invalid value encountered in greater\n",
      "\n"
     ]
    },
    {
     "name": "stdout",
     "output_type": "stream",
     "text": [
      "Iteration: \t63 / 100\n",
      "Confirmed: \t43\n",
      "Tentative: \t13\n",
      "Rejected: \t100\n"
     ]
    },
    {
     "name": "stderr",
     "output_type": "stream",
     "text": [
      "C:\\Users\\olivi\\Desktop\\Logiciel Pro\\PythonEnsae\\python\\lib\\site-packages\\boruta\\boruta_py.py:418: RuntimeWarning:\n",
      "\n",
      "invalid value encountered in greater\n",
      "\n"
     ]
    },
    {
     "name": "stdout",
     "output_type": "stream",
     "text": [
      "Iteration: \t64 / 100\n",
      "Confirmed: \t43\n",
      "Tentative: \t13\n",
      "Rejected: \t100\n"
     ]
    },
    {
     "name": "stderr",
     "output_type": "stream",
     "text": [
      "C:\\Users\\olivi\\Desktop\\Logiciel Pro\\PythonEnsae\\python\\lib\\site-packages\\boruta\\boruta_py.py:418: RuntimeWarning:\n",
      "\n",
      "invalid value encountered in greater\n",
      "\n"
     ]
    },
    {
     "name": "stdout",
     "output_type": "stream",
     "text": [
      "Iteration: \t65 / 100\n",
      "Confirmed: \t43\n",
      "Tentative: \t13\n",
      "Rejected: \t100\n"
     ]
    },
    {
     "name": "stderr",
     "output_type": "stream",
     "text": [
      "C:\\Users\\olivi\\Desktop\\Logiciel Pro\\PythonEnsae\\python\\lib\\site-packages\\boruta\\boruta_py.py:418: RuntimeWarning:\n",
      "\n",
      "invalid value encountered in greater\n",
      "\n"
     ]
    },
    {
     "name": "stdout",
     "output_type": "stream",
     "text": [
      "Iteration: \t66 / 100\n",
      "Confirmed: \t43\n",
      "Tentative: \t13\n",
      "Rejected: \t100\n"
     ]
    },
    {
     "name": "stderr",
     "output_type": "stream",
     "text": [
      "C:\\Users\\olivi\\Desktop\\Logiciel Pro\\PythonEnsae\\python\\lib\\site-packages\\boruta\\boruta_py.py:418: RuntimeWarning:\n",
      "\n",
      "invalid value encountered in greater\n",
      "\n"
     ]
    },
    {
     "name": "stdout",
     "output_type": "stream",
     "text": [
      "Iteration: \t67 / 100\n",
      "Confirmed: \t43\n",
      "Tentative: \t13\n",
      "Rejected: \t100\n"
     ]
    },
    {
     "name": "stderr",
     "output_type": "stream",
     "text": [
      "C:\\Users\\olivi\\Desktop\\Logiciel Pro\\PythonEnsae\\python\\lib\\site-packages\\boruta\\boruta_py.py:418: RuntimeWarning:\n",
      "\n",
      "invalid value encountered in greater\n",
      "\n"
     ]
    },
    {
     "name": "stdout",
     "output_type": "stream",
     "text": [
      "Iteration: \t68 / 100\n",
      "Confirmed: \t43\n",
      "Tentative: \t13\n",
      "Rejected: \t100\n"
     ]
    },
    {
     "name": "stderr",
     "output_type": "stream",
     "text": [
      "C:\\Users\\olivi\\Desktop\\Logiciel Pro\\PythonEnsae\\python\\lib\\site-packages\\boruta\\boruta_py.py:418: RuntimeWarning:\n",
      "\n",
      "invalid value encountered in greater\n",
      "\n"
     ]
    },
    {
     "name": "stdout",
     "output_type": "stream",
     "text": [
      "Iteration: \t69 / 100\n",
      "Confirmed: \t43\n",
      "Tentative: \t13\n",
      "Rejected: \t100\n"
     ]
    },
    {
     "name": "stderr",
     "output_type": "stream",
     "text": [
      "C:\\Users\\olivi\\Desktop\\Logiciel Pro\\PythonEnsae\\python\\lib\\site-packages\\boruta\\boruta_py.py:418: RuntimeWarning:\n",
      "\n",
      "invalid value encountered in greater\n",
      "\n"
     ]
    },
    {
     "name": "stdout",
     "output_type": "stream",
     "text": [
      "Iteration: \t70 / 100\n",
      "Confirmed: \t43\n",
      "Tentative: \t13\n",
      "Rejected: \t100\n"
     ]
    },
    {
     "name": "stderr",
     "output_type": "stream",
     "text": [
      "C:\\Users\\olivi\\Desktop\\Logiciel Pro\\PythonEnsae\\python\\lib\\site-packages\\boruta\\boruta_py.py:418: RuntimeWarning:\n",
      "\n",
      "invalid value encountered in greater\n",
      "\n"
     ]
    },
    {
     "name": "stdout",
     "output_type": "stream",
     "text": [
      "Iteration: \t71 / 100\n",
      "Confirmed: \t43\n",
      "Tentative: \t13\n",
      "Rejected: \t100\n"
     ]
    },
    {
     "name": "stderr",
     "output_type": "stream",
     "text": [
      "C:\\Users\\olivi\\Desktop\\Logiciel Pro\\PythonEnsae\\python\\lib\\site-packages\\boruta\\boruta_py.py:418: RuntimeWarning:\n",
      "\n",
      "invalid value encountered in greater\n",
      "\n"
     ]
    },
    {
     "name": "stdout",
     "output_type": "stream",
     "text": [
      "Iteration: \t72 / 100\n",
      "Confirmed: \t43\n",
      "Tentative: \t13\n",
      "Rejected: \t100\n"
     ]
    },
    {
     "name": "stderr",
     "output_type": "stream",
     "text": [
      "C:\\Users\\olivi\\Desktop\\Logiciel Pro\\PythonEnsae\\python\\lib\\site-packages\\boruta\\boruta_py.py:418: RuntimeWarning:\n",
      "\n",
      "invalid value encountered in greater\n",
      "\n"
     ]
    },
    {
     "name": "stdout",
     "output_type": "stream",
     "text": [
      "Iteration: \t73 / 100\n",
      "Confirmed: \t43\n",
      "Tentative: \t13\n",
      "Rejected: \t100\n"
     ]
    },
    {
     "name": "stderr",
     "output_type": "stream",
     "text": [
      "C:\\Users\\olivi\\Desktop\\Logiciel Pro\\PythonEnsae\\python\\lib\\site-packages\\boruta\\boruta_py.py:418: RuntimeWarning:\n",
      "\n",
      "invalid value encountered in greater\n",
      "\n"
     ]
    },
    {
     "name": "stdout",
     "output_type": "stream",
     "text": [
      "Iteration: \t74 / 100\n",
      "Confirmed: \t43\n",
      "Tentative: \t13\n",
      "Rejected: \t100\n"
     ]
    },
    {
     "name": "stderr",
     "output_type": "stream",
     "text": [
      "C:\\Users\\olivi\\Desktop\\Logiciel Pro\\PythonEnsae\\python\\lib\\site-packages\\boruta\\boruta_py.py:418: RuntimeWarning:\n",
      "\n",
      "invalid value encountered in greater\n",
      "\n"
     ]
    },
    {
     "name": "stdout",
     "output_type": "stream",
     "text": [
      "Iteration: \t75 / 100\n",
      "Confirmed: \t45\n",
      "Tentative: \t11\n",
      "Rejected: \t100\n"
     ]
    },
    {
     "name": "stderr",
     "output_type": "stream",
     "text": [
      "C:\\Users\\olivi\\Desktop\\Logiciel Pro\\PythonEnsae\\python\\lib\\site-packages\\boruta\\boruta_py.py:418: RuntimeWarning:\n",
      "\n",
      "invalid value encountered in greater\n",
      "\n"
     ]
    },
    {
     "name": "stdout",
     "output_type": "stream",
     "text": [
      "Iteration: \t76 / 100\n",
      "Confirmed: \t45\n",
      "Tentative: \t11\n",
      "Rejected: \t100\n"
     ]
    },
    {
     "name": "stderr",
     "output_type": "stream",
     "text": [
      "C:\\Users\\olivi\\Desktop\\Logiciel Pro\\PythonEnsae\\python\\lib\\site-packages\\boruta\\boruta_py.py:418: RuntimeWarning:\n",
      "\n",
      "invalid value encountered in greater\n",
      "\n"
     ]
    },
    {
     "name": "stdout",
     "output_type": "stream",
     "text": [
      "Iteration: \t77 / 100\n",
      "Confirmed: \t45\n",
      "Tentative: \t11\n",
      "Rejected: \t100\n"
     ]
    },
    {
     "name": "stderr",
     "output_type": "stream",
     "text": [
      "C:\\Users\\olivi\\Desktop\\Logiciel Pro\\PythonEnsae\\python\\lib\\site-packages\\boruta\\boruta_py.py:418: RuntimeWarning:\n",
      "\n",
      "invalid value encountered in greater\n",
      "\n"
     ]
    },
    {
     "name": "stdout",
     "output_type": "stream",
     "text": [
      "Iteration: \t78 / 100\n",
      "Confirmed: \t45\n",
      "Tentative: \t11\n",
      "Rejected: \t100\n"
     ]
    },
    {
     "name": "stderr",
     "output_type": "stream",
     "text": [
      "C:\\Users\\olivi\\Desktop\\Logiciel Pro\\PythonEnsae\\python\\lib\\site-packages\\boruta\\boruta_py.py:418: RuntimeWarning:\n",
      "\n",
      "invalid value encountered in greater\n",
      "\n"
     ]
    },
    {
     "name": "stdout",
     "output_type": "stream",
     "text": [
      "Iteration: \t79 / 100\n",
      "Confirmed: \t45\n",
      "Tentative: \t11\n",
      "Rejected: \t100\n"
     ]
    },
    {
     "name": "stderr",
     "output_type": "stream",
     "text": [
      "C:\\Users\\olivi\\Desktop\\Logiciel Pro\\PythonEnsae\\python\\lib\\site-packages\\boruta\\boruta_py.py:418: RuntimeWarning:\n",
      "\n",
      "invalid value encountered in greater\n",
      "\n"
     ]
    },
    {
     "name": "stdout",
     "output_type": "stream",
     "text": [
      "Iteration: \t80 / 100\n",
      "Confirmed: \t46\n",
      "Tentative: \t10\n",
      "Rejected: \t100\n"
     ]
    },
    {
     "name": "stderr",
     "output_type": "stream",
     "text": [
      "C:\\Users\\olivi\\Desktop\\Logiciel Pro\\PythonEnsae\\python\\lib\\site-packages\\boruta\\boruta_py.py:418: RuntimeWarning:\n",
      "\n",
      "invalid value encountered in greater\n",
      "\n"
     ]
    },
    {
     "name": "stdout",
     "output_type": "stream",
     "text": [
      "Iteration: \t81 / 100\n",
      "Confirmed: \t46\n",
      "Tentative: \t10\n",
      "Rejected: \t100\n"
     ]
    },
    {
     "name": "stderr",
     "output_type": "stream",
     "text": [
      "C:\\Users\\olivi\\Desktop\\Logiciel Pro\\PythonEnsae\\python\\lib\\site-packages\\boruta\\boruta_py.py:418: RuntimeWarning:\n",
      "\n",
      "invalid value encountered in greater\n",
      "\n"
     ]
    },
    {
     "name": "stdout",
     "output_type": "stream",
     "text": [
      "Iteration: \t82 / 100\n",
      "Confirmed: \t46\n",
      "Tentative: \t10\n",
      "Rejected: \t100\n"
     ]
    },
    {
     "name": "stderr",
     "output_type": "stream",
     "text": [
      "C:\\Users\\olivi\\Desktop\\Logiciel Pro\\PythonEnsae\\python\\lib\\site-packages\\boruta\\boruta_py.py:418: RuntimeWarning:\n",
      "\n",
      "invalid value encountered in greater\n",
      "\n"
     ]
    },
    {
     "name": "stdout",
     "output_type": "stream",
     "text": [
      "Iteration: \t83 / 100\n",
      "Confirmed: \t46\n",
      "Tentative: \t10\n",
      "Rejected: \t100\n"
     ]
    },
    {
     "name": "stderr",
     "output_type": "stream",
     "text": [
      "C:\\Users\\olivi\\Desktop\\Logiciel Pro\\PythonEnsae\\python\\lib\\site-packages\\boruta\\boruta_py.py:418: RuntimeWarning:\n",
      "\n",
      "invalid value encountered in greater\n",
      "\n"
     ]
    },
    {
     "name": "stdout",
     "output_type": "stream",
     "text": [
      "Iteration: \t84 / 100\n",
      "Confirmed: \t46\n",
      "Tentative: \t10\n",
      "Rejected: \t100\n"
     ]
    },
    {
     "name": "stderr",
     "output_type": "stream",
     "text": [
      "C:\\Users\\olivi\\Desktop\\Logiciel Pro\\PythonEnsae\\python\\lib\\site-packages\\boruta\\boruta_py.py:418: RuntimeWarning:\n",
      "\n",
      "invalid value encountered in greater\n",
      "\n"
     ]
    },
    {
     "name": "stdout",
     "output_type": "stream",
     "text": [
      "Iteration: \t85 / 100\n",
      "Confirmed: \t46\n",
      "Tentative: \t10\n",
      "Rejected: \t100\n"
     ]
    },
    {
     "name": "stderr",
     "output_type": "stream",
     "text": [
      "C:\\Users\\olivi\\Desktop\\Logiciel Pro\\PythonEnsae\\python\\lib\\site-packages\\boruta\\boruta_py.py:418: RuntimeWarning:\n",
      "\n",
      "invalid value encountered in greater\n",
      "\n"
     ]
    },
    {
     "name": "stdout",
     "output_type": "stream",
     "text": [
      "Iteration: \t86 / 100\n",
      "Confirmed: \t46\n",
      "Tentative: \t10\n",
      "Rejected: \t100\n"
     ]
    },
    {
     "name": "stderr",
     "output_type": "stream",
     "text": [
      "C:\\Users\\olivi\\Desktop\\Logiciel Pro\\PythonEnsae\\python\\lib\\site-packages\\boruta\\boruta_py.py:418: RuntimeWarning:\n",
      "\n",
      "invalid value encountered in greater\n",
      "\n"
     ]
    },
    {
     "name": "stdout",
     "output_type": "stream",
     "text": [
      "Iteration: \t87 / 100\n",
      "Confirmed: \t46\n",
      "Tentative: \t10\n",
      "Rejected: \t100\n"
     ]
    },
    {
     "name": "stderr",
     "output_type": "stream",
     "text": [
      "C:\\Users\\olivi\\Desktop\\Logiciel Pro\\PythonEnsae\\python\\lib\\site-packages\\boruta\\boruta_py.py:418: RuntimeWarning:\n",
      "\n",
      "invalid value encountered in greater\n",
      "\n"
     ]
    },
    {
     "name": "stdout",
     "output_type": "stream",
     "text": [
      "Iteration: \t88 / 100\n",
      "Confirmed: \t46\n",
      "Tentative: \t10\n",
      "Rejected: \t100\n"
     ]
    },
    {
     "name": "stderr",
     "output_type": "stream",
     "text": [
      "C:\\Users\\olivi\\Desktop\\Logiciel Pro\\PythonEnsae\\python\\lib\\site-packages\\boruta\\boruta_py.py:418: RuntimeWarning:\n",
      "\n",
      "invalid value encountered in greater\n",
      "\n"
     ]
    },
    {
     "name": "stdout",
     "output_type": "stream",
     "text": [
      "Iteration: \t89 / 100\n",
      "Confirmed: \t46\n",
      "Tentative: \t10\n",
      "Rejected: \t100\n"
     ]
    },
    {
     "name": "stderr",
     "output_type": "stream",
     "text": [
      "C:\\Users\\olivi\\Desktop\\Logiciel Pro\\PythonEnsae\\python\\lib\\site-packages\\boruta\\boruta_py.py:418: RuntimeWarning:\n",
      "\n",
      "invalid value encountered in greater\n",
      "\n"
     ]
    },
    {
     "name": "stdout",
     "output_type": "stream",
     "text": [
      "Iteration: \t90 / 100\n",
      "Confirmed: \t46\n",
      "Tentative: \t10\n",
      "Rejected: \t100\n"
     ]
    },
    {
     "name": "stderr",
     "output_type": "stream",
     "text": [
      "C:\\Users\\olivi\\Desktop\\Logiciel Pro\\PythonEnsae\\python\\lib\\site-packages\\boruta\\boruta_py.py:418: RuntimeWarning:\n",
      "\n",
      "invalid value encountered in greater\n",
      "\n"
     ]
    },
    {
     "name": "stdout",
     "output_type": "stream",
     "text": [
      "Iteration: \t91 / 100\n",
      "Confirmed: \t46\n",
      "Tentative: \t10\n",
      "Rejected: \t100\n"
     ]
    },
    {
     "name": "stderr",
     "output_type": "stream",
     "text": [
      "C:\\Users\\olivi\\Desktop\\Logiciel Pro\\PythonEnsae\\python\\lib\\site-packages\\boruta\\boruta_py.py:418: RuntimeWarning:\n",
      "\n",
      "invalid value encountered in greater\n",
      "\n"
     ]
    },
    {
     "name": "stdout",
     "output_type": "stream",
     "text": [
      "Iteration: \t92 / 100\n",
      "Confirmed: \t46\n",
      "Tentative: \t10\n",
      "Rejected: \t100\n"
     ]
    },
    {
     "name": "stderr",
     "output_type": "stream",
     "text": [
      "C:\\Users\\olivi\\Desktop\\Logiciel Pro\\PythonEnsae\\python\\lib\\site-packages\\boruta\\boruta_py.py:418: RuntimeWarning:\n",
      "\n",
      "invalid value encountered in greater\n",
      "\n"
     ]
    },
    {
     "name": "stdout",
     "output_type": "stream",
     "text": [
      "Iteration: \t93 / 100\n",
      "Confirmed: \t47\n",
      "Tentative: \t9\n",
      "Rejected: \t100\n"
     ]
    },
    {
     "name": "stderr",
     "output_type": "stream",
     "text": [
      "C:\\Users\\olivi\\Desktop\\Logiciel Pro\\PythonEnsae\\python\\lib\\site-packages\\boruta\\boruta_py.py:418: RuntimeWarning:\n",
      "\n",
      "invalid value encountered in greater\n",
      "\n"
     ]
    },
    {
     "name": "stdout",
     "output_type": "stream",
     "text": [
      "Iteration: \t94 / 100\n",
      "Confirmed: \t47\n",
      "Tentative: \t9\n",
      "Rejected: \t100\n"
     ]
    },
    {
     "name": "stderr",
     "output_type": "stream",
     "text": [
      "C:\\Users\\olivi\\Desktop\\Logiciel Pro\\PythonEnsae\\python\\lib\\site-packages\\boruta\\boruta_py.py:418: RuntimeWarning:\n",
      "\n",
      "invalid value encountered in greater\n",
      "\n"
     ]
    },
    {
     "name": "stdout",
     "output_type": "stream",
     "text": [
      "Iteration: \t95 / 100\n",
      "Confirmed: \t47\n",
      "Tentative: \t9\n",
      "Rejected: \t100\n"
     ]
    },
    {
     "name": "stderr",
     "output_type": "stream",
     "text": [
      "C:\\Users\\olivi\\Desktop\\Logiciel Pro\\PythonEnsae\\python\\lib\\site-packages\\boruta\\boruta_py.py:418: RuntimeWarning:\n",
      "\n",
      "invalid value encountered in greater\n",
      "\n"
     ]
    },
    {
     "name": "stdout",
     "output_type": "stream",
     "text": [
      "Iteration: \t96 / 100\n",
      "Confirmed: \t47\n",
      "Tentative: \t9\n",
      "Rejected: \t100\n"
     ]
    },
    {
     "name": "stderr",
     "output_type": "stream",
     "text": [
      "C:\\Users\\olivi\\Desktop\\Logiciel Pro\\PythonEnsae\\python\\lib\\site-packages\\boruta\\boruta_py.py:418: RuntimeWarning:\n",
      "\n",
      "invalid value encountered in greater\n",
      "\n"
     ]
    },
    {
     "name": "stdout",
     "output_type": "stream",
     "text": [
      "Iteration: \t97 / 100\n",
      "Confirmed: \t47\n",
      "Tentative: \t9\n",
      "Rejected: \t100\n"
     ]
    },
    {
     "name": "stderr",
     "output_type": "stream",
     "text": [
      "C:\\Users\\olivi\\Desktop\\Logiciel Pro\\PythonEnsae\\python\\lib\\site-packages\\boruta\\boruta_py.py:418: RuntimeWarning:\n",
      "\n",
      "invalid value encountered in greater\n",
      "\n"
     ]
    },
    {
     "name": "stdout",
     "output_type": "stream",
     "text": [
      "Iteration: \t98 / 100\n",
      "Confirmed: \t47\n",
      "Tentative: \t9\n",
      "Rejected: \t100\n"
     ]
    },
    {
     "name": "stderr",
     "output_type": "stream",
     "text": [
      "C:\\Users\\olivi\\Desktop\\Logiciel Pro\\PythonEnsae\\python\\lib\\site-packages\\boruta\\boruta_py.py:418: RuntimeWarning:\n",
      "\n",
      "invalid value encountered in greater\n",
      "\n"
     ]
    },
    {
     "name": "stdout",
     "output_type": "stream",
     "text": [
      "Iteration: \t99 / 100\n",
      "Confirmed: \t47\n",
      "Tentative: \t9\n",
      "Rejected: \t100\n",
      "\n",
      "\n",
      "BorutaPy finished running.\n",
      "\n",
      "Iteration: \t100 / 100\n",
      "Confirmed: \t47\n",
      "Tentative: \t4\n",
      "Rejected: \t100\n",
      "\n",
      "Selected Feature Matrix Shape\n",
      "(4872, 47)\n",
      "['volatile acidity', 'density', 'alcohol', 'fixed acidity*volatile acidity', 'fixed acidity*chlorides', 'fixed acidity*total sulfur dioxide', 'volatile acidity*fixed acidity', 'volatile acidity*chlorides', 'volatile acidity*total sulfur dioxide', 'volatile acidity*density', 'volatile acidity*pH', 'volatile acidity*alcohol', 'citric acid*alcohol', 'residual sugar*free sulfur dioxide', 'residual sugar*sulphates', 'chlorides*fixed acidity', 'chlorides*volatile acidity', 'chlorides*residual sugar', 'chlorides*total sulfur dioxide', 'chlorides*density', 'free sulfur dioxide*residual sugar', 'free sulfur dioxide*sulphates', 'free sulfur dioxide*alcohol', 'total sulfur dioxide*volatile acidity', 'total sulfur dioxide*chlorides', 'density*volatile acidity', 'density*chlorides', 'density*density', 'density*pH', 'density*sulphates', 'density*alcohol', 'pH*volatile acidity', 'pH*density', 'pH*alcohol', 'sulphates*residual sugar', 'sulphates*free sulfur dioxide', 'sulphates*density', 'sulphates*alcohol', 'alcohol*fixed acidity', 'alcohol*volatile acidity', 'alcohol*citric acid', 'alcohol*residual sugar', 'alcohol*free sulfur dioxide', 'alcohol*density', 'alcohol*pH', 'alcohol*sulphates', 'alcohol*alcohol']\n"
     ]
    }
   ],
   "source": [
    "Selection_Train_Test(winequality,'quality','Oui',RandomForestClassifier(n_estimators=100, criterion='gini', max_depth=None, min_samples_split=2, min_samples_leaf=1,\n",
    "max_features='auto', max_leaf_nodes=None, bootstrap=True,oob_score=False, random_state=None, verbose=0, n_jobs=-1),RandomForestClassifier(n_estimators=100, criterion='gini', max_depth=None, min_samples_split=2, min_samples_leaf=1,max_features='auto', max_leaf_nodes=None, bootstrap=True,oob_score=False, random_state=None, verbose=0, n_jobs=-1),'RF')"
   ]
  },
  {
   "cell_type": "code",
   "execution_count": 9,
   "metadata": {
    "collapsed": true
   },
   "outputs": [],
   "source": [
    "Selection_Train_Test(winequality,'quality','Non',RandomForestClassifier(n_estimators=100, criterion='gini', max_depth=None, min_samples_split=2, min_samples_leaf=1,\n",
    "max_features='auto', max_leaf_nodes=None, bootstrap=True,oob_score=False, random_state=None, verbose=0, n_jobs=-1),RandomForestClassifier(n_estimators=100, criterion='gini', max_depth=None, min_samples_split=2, min_samples_leaf=1,max_features='auto', max_leaf_nodes=None, bootstrap=True,oob_score=False, random_state=None, verbose=0, n_jobs=-1),'RF')"
   ]
  },
  {
   "cell_type": "code",
   "execution_count": 10,
   "metadata": {},
   "outputs": [
    {
     "data": {
      "text/plain": [
       "{'Logit': {'Selection_Variable': {'Non': [], 'Oui': []}},\n",
       " 'RF': {'Selection_Variable': {'Non': [0.67692307692307696],\n",
       "   'Oui': [0.68184615384615388]}},\n",
       " 'SVM': {'Selection_Variable': {'Non': [], 'Oui': []}}}"
      ]
     },
     "execution_count": 10,
     "metadata": {},
     "output_type": "execute_result"
    }
   ],
   "source": [
    "Accuracy"
   ]
  },
  {
   "cell_type": "code",
   "execution_count": null,
   "metadata": {
    "collapsed": true
   },
   "outputs": [],
   "source": [
    "# Travail sur les deux bases de couleurs différentes"
   ]
  },
  {
   "cell_type": "code",
   "execution_count": null,
   "metadata": {
    "collapsed": true
   },
   "outputs": [],
   "source": []
  }
 ],
 "metadata": {
  "kernelspec": {
   "display_name": "Python 3",
   "language": "python",
   "name": "python3"
  },
  "language_info": {
   "codemirror_mode": {
    "name": "ipython",
    "version": 3
   },
   "file_extension": ".py",
   "mimetype": "text/x-python",
   "name": "python",
   "nbconvert_exporter": "python",
   "pygments_lexer": "ipython3",
   "version": "3.6.4"
  }
 },
 "nbformat": 4,
 "nbformat_minor": 2
}
